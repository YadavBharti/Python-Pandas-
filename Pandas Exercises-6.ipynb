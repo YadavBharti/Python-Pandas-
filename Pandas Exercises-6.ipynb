{
 "cells": [
  {
   "cell_type": "markdown",
   "metadata": {},
   "source": [
    "# Pandas Exercise: Merging (MPG Cars)"
   ]
  },
  {
   "cell_type": "markdown",
   "metadata": {},
   "source": [
    "### Step 1. Import the necessary libraries"
   ]
  },
  {
   "cell_type": "code",
   "execution_count": 84,
   "metadata": {},
   "outputs": [],
   "source": [
    "import pandas as pd\n",
    "import numpy as np"
   ]
  },
  {
   "cell_type": "markdown",
   "metadata": {},
   "source": [
    "### Step 2. Import the first dataset [cars1](https://raw.githubusercontent.com/guipsamora/pandas_exercises/master/Merge/Auto_MPG/cars1.csv) and [cars2](https://raw.githubusercontent.com/guipsamora/pandas_exercises/master/Merge/Auto_MPG/cars2.csv).  "
   ]
  },
  {
   "cell_type": "markdown",
   "metadata": {},
   "source": [
    "   ### Step 3. Assign each to a to a variable called cars1 and cars2"
   ]
  },
  {
   "cell_type": "code",
   "execution_count": 85,
   "metadata": {},
   "outputs": [],
   "source": [
    "cars1=pd.read_csv(\"C:\\\\Users\\\\Priyanka Panday\\\\Downloads\\\\Bharti\\\\3. Pandas Basic Exercises\\\\Data\\\\Pandas Exercise6 files\\\\cars1.csv\")\n",
    "cars2=pd.read_csv(\"C:\\\\Users\\\\Priyanka Panday\\\\Downloads\\\\Bharti\\\\3. Pandas Basic Exercises\\\\Data\\\\Pandas Exercise6 files\\\\cars2.csv\")"
   ]
  },
  {
   "cell_type": "markdown",
   "metadata": {},
   "source": [
    "### Step 4. Ops it seems our first dataset has some unnamed blank columns, fix cars1"
   ]
  },
  {
   "cell_type": "code",
   "execution_count": 86,
   "metadata": {},
   "outputs": [],
   "source": [
    "cars1=cars1.drop(['Unnamed: 9','Unnamed: 10','Unnamed: 11','Unnamed: 12', 'Unnamed: 13'], axis =1)\n"
   ]
  },
  {
   "cell_type": "markdown",
   "metadata": {},
   "source": [
    "### Step 5. What is the number of observations in each dataset?"
   ]
  },
  {
   "cell_type": "code",
   "execution_count": 87,
   "metadata": {},
   "outputs": [
    {
     "name": "stdout",
     "output_type": "stream",
     "text": [
      "198\n",
      "200\n"
     ]
    }
   ],
   "source": [
    "print cars1.shape[0]\n",
    "print cars2.shape[0]\n"
   ]
  },
  {
   "cell_type": "markdown",
   "metadata": {},
   "source": [
    "### Step 6. Join cars1 and cars2 into a single DataFrame called cars"
   ]
  },
  {
   "cell_type": "code",
   "execution_count": 88,
   "metadata": {},
   "outputs": [
    {
     "data": {
      "text/html": [
       "<div>\n",
       "<style scoped>\n",
       "    .dataframe tbody tr th:only-of-type {\n",
       "        vertical-align: middle;\n",
       "    }\n",
       "\n",
       "    .dataframe tbody tr th {\n",
       "        vertical-align: top;\n",
       "    }\n",
       "\n",
       "    .dataframe thead th {\n",
       "        text-align: right;\n",
       "    }\n",
       "</style>\n",
       "<table border=\"1\" class=\"dataframe\">\n",
       "  <thead>\n",
       "    <tr style=\"text-align: right;\">\n",
       "      <th></th>\n",
       "      <th>mpg_l</th>\n",
       "      <th>cylinders_l</th>\n",
       "      <th>displacement_l</th>\n",
       "      <th>horsepower_l</th>\n",
       "      <th>weight_l</th>\n",
       "      <th>acceleration_l</th>\n",
       "      <th>model_l</th>\n",
       "      <th>origin_l</th>\n",
       "      <th>car_l</th>\n",
       "      <th>mpg_r</th>\n",
       "      <th>cylinders_r</th>\n",
       "      <th>displacement_r</th>\n",
       "      <th>horsepower_r</th>\n",
       "      <th>weight_r</th>\n",
       "      <th>acceleration_r</th>\n",
       "      <th>model_r</th>\n",
       "      <th>origin_r</th>\n",
       "      <th>car_r</th>\n",
       "    </tr>\n",
       "  </thead>\n",
       "  <tbody>\n",
       "    <tr>\n",
       "      <th>195</th>\n",
       "      <td>27.0</td>\n",
       "      <td>4</td>\n",
       "      <td>140</td>\n",
       "      <td>86</td>\n",
       "      <td>2790</td>\n",
       "      <td>15.6</td>\n",
       "      <td>82</td>\n",
       "      <td>1</td>\n",
       "      <td>ford mustang gl</td>\n",
       "      <td>29.0</td>\n",
       "      <td>4.0</td>\n",
       "      <td>85.0</td>\n",
       "      <td>52</td>\n",
       "      <td>2035.0</td>\n",
       "      <td>22.2</td>\n",
       "      <td>76.0</td>\n",
       "      <td>1.0</td>\n",
       "      <td>chevrolet chevette</td>\n",
       "    </tr>\n",
       "    <tr>\n",
       "      <th>196</th>\n",
       "      <td>44.0</td>\n",
       "      <td>4</td>\n",
       "      <td>97</td>\n",
       "      <td>52</td>\n",
       "      <td>2130</td>\n",
       "      <td>24.6</td>\n",
       "      <td>82</td>\n",
       "      <td>2</td>\n",
       "      <td>vw pickup</td>\n",
       "      <td>24.5</td>\n",
       "      <td>4.0</td>\n",
       "      <td>98.0</td>\n",
       "      <td>60</td>\n",
       "      <td>2164.0</td>\n",
       "      <td>22.1</td>\n",
       "      <td>76.0</td>\n",
       "      <td>1.0</td>\n",
       "      <td>chevrolet woody</td>\n",
       "    </tr>\n",
       "    <tr>\n",
       "      <th>197</th>\n",
       "      <td>32.0</td>\n",
       "      <td>4</td>\n",
       "      <td>135</td>\n",
       "      <td>84</td>\n",
       "      <td>2295</td>\n",
       "      <td>11.6</td>\n",
       "      <td>82</td>\n",
       "      <td>1</td>\n",
       "      <td>dodge rampage</td>\n",
       "      <td>29.0</td>\n",
       "      <td>4.0</td>\n",
       "      <td>90.0</td>\n",
       "      <td>70</td>\n",
       "      <td>1937.0</td>\n",
       "      <td>14.2</td>\n",
       "      <td>76.0</td>\n",
       "      <td>2.0</td>\n",
       "      <td>vw rabbit</td>\n",
       "    </tr>\n",
       "    <tr>\n",
       "      <th>198</th>\n",
       "      <td>28.0</td>\n",
       "      <td>4</td>\n",
       "      <td>120</td>\n",
       "      <td>79</td>\n",
       "      <td>2625</td>\n",
       "      <td>18.6</td>\n",
       "      <td>82</td>\n",
       "      <td>1</td>\n",
       "      <td>ford ranger</td>\n",
       "      <td>NaN</td>\n",
       "      <td>NaN</td>\n",
       "      <td>NaN</td>\n",
       "      <td>NaN</td>\n",
       "      <td>NaN</td>\n",
       "      <td>NaN</td>\n",
       "      <td>NaN</td>\n",
       "      <td>NaN</td>\n",
       "      <td>NaN</td>\n",
       "    </tr>\n",
       "    <tr>\n",
       "      <th>199</th>\n",
       "      <td>31.0</td>\n",
       "      <td>4</td>\n",
       "      <td>119</td>\n",
       "      <td>82</td>\n",
       "      <td>2720</td>\n",
       "      <td>19.4</td>\n",
       "      <td>82</td>\n",
       "      <td>1</td>\n",
       "      <td>chevy s-10</td>\n",
       "      <td>NaN</td>\n",
       "      <td>NaN</td>\n",
       "      <td>NaN</td>\n",
       "      <td>NaN</td>\n",
       "      <td>NaN</td>\n",
       "      <td>NaN</td>\n",
       "      <td>NaN</td>\n",
       "      <td>NaN</td>\n",
       "      <td>NaN</td>\n",
       "    </tr>\n",
       "  </tbody>\n",
       "</table>\n",
       "</div>"
      ],
      "text/plain": [
       "     mpg_l  cylinders_l  displacement_l horsepower_l  weight_l  \\\n",
       "195   27.0            4             140           86      2790   \n",
       "196   44.0            4              97           52      2130   \n",
       "197   32.0            4             135           84      2295   \n",
       "198   28.0            4             120           79      2625   \n",
       "199   31.0            4             119           82      2720   \n",
       "\n",
       "     acceleration_l  model_l  origin_l            car_l  mpg_r  cylinders_r  \\\n",
       "195            15.6       82         1  ford mustang gl   29.0          4.0   \n",
       "196            24.6       82         2        vw pickup   24.5          4.0   \n",
       "197            11.6       82         1    dodge rampage   29.0          4.0   \n",
       "198            18.6       82         1      ford ranger    NaN          NaN   \n",
       "199            19.4       82         1       chevy s-10    NaN          NaN   \n",
       "\n",
       "     displacement_r horsepower_r  weight_r  acceleration_r  model_r  origin_r  \\\n",
       "195            85.0           52    2035.0            22.2     76.0       1.0   \n",
       "196            98.0           60    2164.0            22.1     76.0       1.0   \n",
       "197            90.0           70    1937.0            14.2     76.0       2.0   \n",
       "198             NaN          NaN       NaN             NaN      NaN       NaN   \n",
       "199             NaN          NaN       NaN             NaN      NaN       NaN   \n",
       "\n",
       "                  car_r  \n",
       "195  chevrolet chevette  \n",
       "196     chevrolet woody  \n",
       "197           vw rabbit  \n",
       "198                 NaN  \n",
       "199                 NaN  "
      ]
     },
     "execution_count": 88,
     "metadata": {},
     "output_type": "execute_result"
    }
   ],
   "source": [
    "cars=cars2.join(cars1, lsuffix='_l', rsuffix='_r')\n",
    "cars.tail(5)"
   ]
  },
  {
   "cell_type": "markdown",
   "metadata": {},
   "source": [
    "### Step 7. Ops there is a column missing, called owners. Create a random number Series from 15,000 to 73,000."
   ]
  },
  {
   "cell_type": "code",
   "execution_count": 91,
   "metadata": {},
   "outputs": [],
   "source": [
    "owners=np.random.randint(15000,73000,size=200)"
   ]
  },
  {
   "cell_type": "markdown",
   "metadata": {},
   "source": [
    "### Step 8. Add the column owners to cars"
   ]
  },
  {
   "cell_type": "code",
   "execution_count": 92,
   "metadata": {},
   "outputs": [
    {
     "data": {
      "text/html": [
       "<div>\n",
       "<style scoped>\n",
       "    .dataframe tbody tr th:only-of-type {\n",
       "        vertical-align: middle;\n",
       "    }\n",
       "\n",
       "    .dataframe tbody tr th {\n",
       "        vertical-align: top;\n",
       "    }\n",
       "\n",
       "    .dataframe thead th {\n",
       "        text-align: right;\n",
       "    }\n",
       "</style>\n",
       "<table border=\"1\" class=\"dataframe\">\n",
       "  <thead>\n",
       "    <tr style=\"text-align: right;\">\n",
       "      <th></th>\n",
       "      <th>mpg_l</th>\n",
       "      <th>cylinders_l</th>\n",
       "      <th>displacement_l</th>\n",
       "      <th>horsepower_l</th>\n",
       "      <th>weight_l</th>\n",
       "      <th>acceleration_l</th>\n",
       "      <th>model_l</th>\n",
       "      <th>origin_l</th>\n",
       "      <th>car_l</th>\n",
       "      <th>mpg_r</th>\n",
       "      <th>cylinders_r</th>\n",
       "      <th>displacement_r</th>\n",
       "      <th>horsepower_r</th>\n",
       "      <th>weight_r</th>\n",
       "      <th>acceleration_r</th>\n",
       "      <th>model_r</th>\n",
       "      <th>origin_r</th>\n",
       "      <th>car_r</th>\n",
       "      <th>owners</th>\n",
       "    </tr>\n",
       "  </thead>\n",
       "  <tbody>\n",
       "    <tr>\n",
       "      <th>0</th>\n",
       "      <td>33.0</td>\n",
       "      <td>4</td>\n",
       "      <td>91</td>\n",
       "      <td>53</td>\n",
       "      <td>1795</td>\n",
       "      <td>17.4</td>\n",
       "      <td>76</td>\n",
       "      <td>3</td>\n",
       "      <td>honda civic</td>\n",
       "      <td>18.0</td>\n",
       "      <td>8.0</td>\n",
       "      <td>307.0</td>\n",
       "      <td>130</td>\n",
       "      <td>3504.0</td>\n",
       "      <td>12.0</td>\n",
       "      <td>70.0</td>\n",
       "      <td>1.0</td>\n",
       "      <td>chevrolet chevelle malibu</td>\n",
       "      <td>15186</td>\n",
       "    </tr>\n",
       "    <tr>\n",
       "      <th>1</th>\n",
       "      <td>20.0</td>\n",
       "      <td>6</td>\n",
       "      <td>225</td>\n",
       "      <td>100</td>\n",
       "      <td>3651</td>\n",
       "      <td>17.7</td>\n",
       "      <td>76</td>\n",
       "      <td>1</td>\n",
       "      <td>dodge aspen se</td>\n",
       "      <td>15.0</td>\n",
       "      <td>8.0</td>\n",
       "      <td>350.0</td>\n",
       "      <td>165</td>\n",
       "      <td>3693.0</td>\n",
       "      <td>11.5</td>\n",
       "      <td>70.0</td>\n",
       "      <td>1.0</td>\n",
       "      <td>buick skylark 320</td>\n",
       "      <td>63851</td>\n",
       "    </tr>\n",
       "  </tbody>\n",
       "</table>\n",
       "</div>"
      ],
      "text/plain": [
       "   mpg_l  cylinders_l  displacement_l horsepower_l  weight_l  acceleration_l  \\\n",
       "0   33.0            4              91           53      1795            17.4   \n",
       "1   20.0            6             225          100      3651            17.7   \n",
       "\n",
       "   model_l  origin_l           car_l  mpg_r  cylinders_r  displacement_r  \\\n",
       "0       76         3     honda civic   18.0          8.0           307.0   \n",
       "1       76         1  dodge aspen se   15.0          8.0           350.0   \n",
       "\n",
       "  horsepower_r  weight_r  acceleration_r  model_r  origin_r  \\\n",
       "0          130    3504.0            12.0     70.0       1.0   \n",
       "1          165    3693.0            11.5     70.0       1.0   \n",
       "\n",
       "                       car_r  owners  \n",
       "0  chevrolet chevelle malibu   15186  \n",
       "1          buick skylark 320   63851  "
      ]
     },
     "execution_count": 92,
     "metadata": {},
     "output_type": "execute_result"
    }
   ],
   "source": [
    "cars['owners']= owners\n",
    "\n",
    "cars.head(2)"
   ]
  }
 ],
 "metadata": {
  "kernelspec": {
   "display_name": "Python 2",
   "language": "python",
   "name": "python2"
  },
  "language_info": {
   "codemirror_mode": {
    "name": "ipython",
    "version": 2
   },
   "file_extension": ".py",
   "mimetype": "text/x-python",
   "name": "python",
   "nbconvert_exporter": "python",
   "pygments_lexer": "ipython2",
   "version": "2.7.15"
  }
 },
 "nbformat": 4,
 "nbformat_minor": 1
}
