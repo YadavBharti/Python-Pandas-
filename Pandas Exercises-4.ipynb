{
 "cells": [
  {
   "cell_type": "markdown",
   "metadata": {},
   "source": [
    "# Pandas Exercise: Grouping (OCCUPATION FILE)"
   ]
  },
  {
   "cell_type": "markdown",
   "metadata": {},
   "source": [
    "### Step 1. Import the necessary libraries"
   ]
  },
  {
   "cell_type": "code",
   "execution_count": null,
   "metadata": {},
   "outputs": [],
   "source": [
    "#import numpy as np\n",
    "import pandas as pd"
   ]
  },
  {
   "cell_type": "markdown",
   "metadata": {},
   "source": [
    "### Step 2. Import the dataset from this [address](https://raw.githubusercontent.com/justmarkham/DAT8/master/data/u.user). "
   ]
  },
  {
   "cell_type": "markdown",
   "metadata": {},
   "source": [
    "### Step 3. Assign it to a variable called users."
   ]
  },
  {
   "cell_type": "code",
   "execution_count": null,
   "metadata": {},
   "outputs": [],
   "source": [
    "url='https://raw.githubusercontent.com/justmarkham/DAT8/master/data/u.user'\n",
    "users=pd.read_csv(url)\n",
    "users[['user_id','age','gender','occupation','zip_code']]=users['user_id|age|gender|occupation|zip_code'].str.split('|', expand=True)\n",
    "users.drop('user_id|age|gender|occupation|zip_code', axis=1, inplace=True)\n",
    "users.head(5)"
   ]
  },
  {
   "cell_type": "code",
   "execution_count": null,
   "metadata": {},
   "outputs": [],
   "source": [
    "users.dtypes\n",
    "users[['age']]=users[['age']].astype('int32')\n",
    "users[['user_id']]=users[['user_id']].astype('int32')\n",
    "users.dtypes"
   ]
  },
  {
   "cell_type": "markdown",
   "metadata": {},
   "source": [
    "### Step 4. Discover what is the mean age per occupation"
   ]
  },
  {
   "cell_type": "code",
   "execution_count": null,
   "metadata": {},
   "outputs": [],
   "source": [
    "#users[['occupation','age']].groupby('occupation').mean()\n",
    "\n",
    "user=users[['occupation','age']].groupby('occupation')\n",
    "user.mean()\n"
   ]
  },
  {
   "cell_type": "markdown",
   "metadata": {},
   "source": [
    "### Step 5. Discover the Male ratio per occupation and sort it from the most to the least"
   ]
  },
  {
   "cell_type": "code",
   "execution_count": null,
   "metadata": {},
   "outputs": [],
   "source": [
    "male_ratio= users.pivot_table(index='occupation', columns='gender', aggfunc='size' , fill_value=0)\n",
    "\n",
    "sums=male_ratio[['M','F']].sum(axis=1)\n",
    "male_ratio['ratio']=male_ratio['F']/sums\n",
    "male_ratio.sort_values(by='ratio' , ascending=False)\n"
   ]
  },
  {
   "cell_type": "markdown",
   "metadata": {},
   "source": [
    "### Step 6. For each occupation, calculate the minimum and maximum ages"
   ]
  },
  {
   "cell_type": "code",
   "execution_count": null,
   "metadata": {},
   "outputs": [],
   "source": [
    "\n",
    "data=users[['occupation','age']].groupby('occupation')\n",
    "data.max()\n",
    "data.min()\n",
    "pd.DataFrame(pd.concat([data.max(),data.min()],axis=1).values, columns=['max', 'min'])\n",
    "                        \n",
    "#main=data['age'].max()\n",
    "#main = data['age'].min()\n",
    "#main"
   ]
  },
  {
   "cell_type": "markdown",
   "metadata": {},
   "source": [
    "### Step 7. For each combination of occupation and gender, calculate the mean age"
   ]
  },
  {
   "cell_type": "code",
   "execution_count": null,
   "metadata": {},
   "outputs": [],
   "source": [
    "users[['occupation','gender','age']].groupby(['gender','occupation',]).mean()"
   ]
  },
  {
   "cell_type": "markdown",
   "metadata": {},
   "source": [
    "### Step 8.  For each occupation present the percentage of women and men"
   ]
  },
  {
   "cell_type": "code",
   "execution_count": null,
   "metadata": {},
   "outputs": [],
   "source": [
    "percentage=users.pivot_table(index='occupation', columns=\"gender\", aggfunc='size', fill_value=0)\n",
    "\n",
    "sums=percentage[['F','M']].sum(axis=1)\n",
    "percentage['female_ration']=percentage['F']/sums\n",
    "percentage['male_ration']=percentage['M']/sums\n",
    "\n",
    "print percentage\n"
   ]
  }
 ],
 "metadata": {
  "anaconda-cloud": {},
  "kernelspec": {
   "display_name": "Python 2",
   "language": "python",
   "name": "python2"
  },
  "language_info": {
   "codemirror_mode": {
    "name": "ipython",
    "version": 2
   },
   "file_extension": ".py",
   "mimetype": "text/x-python",
   "name": "python",
   "nbconvert_exporter": "python",
   "pygments_lexer": "ipython2",
   "version": "2.7.15"
  }
 },
 "nbformat": 4,
 "nbformat_minor": 1
}
